{
  "metadata": {
    "language_info": {
      "name": ""
    },
    "kernelspec": {
      "name": ""
    }
  },
  "nbformat_minor": 4,
  "nbformat": 4,
  "cells": [
    {
      "cell_type": "markdown",
      "source": "# My Jupyter Notebook on IBM Watson Studio",
      "metadata": {
        "tags": []
      }
    },
    {
      "cell_type": "markdown",
      "source": "__Mirkamali Majdeh__\n\n100% human",
      "metadata": {}
    },
    {
      "cell_type": "markdown",
      "source": "_I am intrested in data science because it keeps moving forward in the edge of knowledge_",
      "metadata": {}
    },
    {
      "cell_type": "markdown",
      "source": "### The following code tests the plural action\n",
      "metadata": {
        "tags": []
      }
    },
    {
      "cell_type": "code",
      "source": "1+1",
      "metadata": {
        "trusted": true
      },
      "execution_count": null,
      "outputs": []
    },
    {
      "cell_type": "markdown",
      "source": "* one\n\n* two\n\n* three\n\n(https://www.google.com \"Google's Homepage\")\n\n\n\n| Tables        |  are          |  cool |\n| ------------- |:-------------:| -----:|\n| col 3 is      | right-aligned | $1600 |\n| col 2 is      | centered      |   $12 |\n| zebra stripes | are neat      |    $1 |\n\n",
      "metadata": {}
    },
    {
      "cell_type": "code",
      "source": "",
      "metadata": {},
      "execution_count": null,
      "outputs": []
    }
  ]
}